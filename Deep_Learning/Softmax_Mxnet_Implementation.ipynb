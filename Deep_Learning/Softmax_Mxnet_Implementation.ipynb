{
 "cells": [
  {
   "cell_type": "code",
   "execution_count": 43,
   "metadata": {},
   "outputs": [],
   "source": [
    "from mxnet import autograd, nd\n",
    "\n",
    "num_inputs = 2\n",
    "num_examples = 1000\n",
    "true_w = [34, -45.5]\n",
    "true_b = 7.6\n",
    "features = nd.random.normal(scale=1, shape=(num_examples, num_inputs))\n",
    "labels = nd.dot(features, nd.array(true_w).reshape(-1, 1)) + true_b "
   ]
  },
  {
   "cell_type": "code",
   "execution_count": 44,
   "metadata": {},
   "outputs": [
    {
     "name": "stdout",
     "output_type": "stream",
     "text": [
      "\n",
      "[[ 1.7908665   1.0552596 ]\n",
      " [ 0.3349761   2.4395742 ]\n",
      " [ 0.3142791  -2.9529479 ]\n",
      " [ 1.5717051  -1.4135796 ]\n",
      " [-0.9839946  -1.0218661 ]\n",
      " [ 0.45987374  1.1758304 ]\n",
      " [ 1.1553388   0.6409077 ]\n",
      " [-0.27608025  1.485094  ]\n",
      " [ 2.886942   -0.11450042]\n",
      " [ 0.23659763  2.7078247 ]]\n",
      "<NDArray 10x2 @cpu(0)> \n",
      "[[  20.475151]\n",
      " [ -92.011444]\n",
      " [ 152.64462 ]\n",
      " [ 125.35584 ]\n",
      " [  20.639088]\n",
      " [ -30.264574]\n",
      " [  17.720217]\n",
      " [ -69.358505]\n",
      " [ 110.96579 ]\n",
      " [-107.56171 ]]\n",
      "<NDArray 10x1 @cpu(0)>\n"
     ]
    }
   ],
   "source": [
    "from mxnet.gluon import data as gdata\n",
    "\n",
    "batch_size = 10\n",
    "dataset = gdata.ArrayDataset(features, labels)\n",
    "data_iter = gdata.DataLoader(dataset, batch_size, shuffle=True)\n",
    "\n",
    "for X, y in data_iter:\n",
    "    print(X, y)\n",
    "    break"
   ]
  },
  {
   "cell_type": "code",
   "execution_count": 45,
   "metadata": {},
   "outputs": [],
   "source": [
    "from mxnet.gluon import nn\n",
    "from mxnet import init\n",
    "from mxnet.gluon import loss as gloss\n",
    "\n",
    "net = nn.Sequential()\n",
    "net.add(nn.Dense(1))\n",
    "net.initialize(init.Normal(sigma=0.01))"
   ]
  },
  {
   "cell_type": "code",
   "execution_count": 46,
   "metadata": {},
   "outputs": [
    {
     "name": "stdout",
     "output_type": "stream",
     "text": [
      "epoch: epoch, loss: [3.5413628]\n",
      "epoch: epoch, loss: [0.00762432]\n",
      "epoch: epoch, loss: [1.6497273e-05]\n",
      "learned weights: \n",
      "[[ 33.997112 -45.49505 ]]\n",
      "<NDArray 1x2 @cpu(0)> learned bias: \n",
      "[7.599994]\n",
      "<NDArray 1 @cpu(0)>\n",
      "true_w: [34, -45.5] true_b: 7.6\n"
     ]
    }
   ],
   "source": [
    "from mxnet import gluon\n",
    "\n",
    "trainer = gluon.Trainer(net.collect_params(), 'sgd', {'learning_rate': 0.03})\n",
    "\n",
    "num_epochs = 3\n",
    "for epoch in range(1, num_epochs + 1):\n",
    "    for X, y in data_iter:\n",
    "        with autograd.record():\n",
    "            l = loss(net(X), y)\n",
    "        l.backward()\n",
    "        trainer.step(batch_size)\n",
    "    l = loss(net(features), labels)\n",
    "    print(f'epoch: epoch, loss: {l.mean().asnumpy()}')\n",
    "\n",
    "print(f'learned weights: {net[0].weight.data()} learned bias: {dense.bias.data()}')\n",
    "print(f'true_w: {true_w} true_b: {true_b}')\n",
    "            \n",
    "            "
   ]
  }
 ],
 "metadata": {
  "kernelspec": {
   "display_name": "Python 3",
   "language": "python",
   "name": "python3"
  },
  "language_info": {
   "codemirror_mode": {
    "name": "ipython",
    "version": 3
   },
   "file_extension": ".py",
   "mimetype": "text/x-python",
   "name": "python",
   "nbconvert_exporter": "python",
   "pygments_lexer": "ipython3",
   "version": "3.7.7"
  }
 },
 "nbformat": 4,
 "nbformat_minor": 4
}
