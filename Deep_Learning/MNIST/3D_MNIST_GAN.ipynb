{
 "cells": [
  {
   "cell_type": "code",
   "execution_count": 37,
   "metadata": {},
   "outputs": [],
   "source": [
    "import h5py as h5\n",
    "import torch\n",
    "import nibabel as nib\n",
    "import numpy as np\n",
    "import matplotlib.pyplot as plt\n",
    "from ipdb import set_trace\n",
    "from torch.utils.data import DataLoader as dl\n",
    "from torch.utils.data import Dataset as ds\n",
    "from torch import nn\n",
    "from torch import optim\n",
    "from torch.nn import functional as F\n",
    "%matplotlib inline"
   ]
  },
  {
   "cell_type": "markdown",
   "metadata": {},
   "source": [
    "### Dataset"
   ]
  },
  {
   "cell_type": "code",
   "execution_count": 2,
   "metadata": {},
   "outputs": [],
   "source": [
    "BATCH_SIZE = 5\n",
    "NUM_EPOCHS = 1\n",
    "index = 0\n",
    "torch.cuda.device(torch.cuda.device('cuda:0'))\n",
    "\n",
    "class MNIST_3D_DS(ds):\n",
    "    def __init__(self, data):\n",
    "        self.data = data\n",
    "    def __getitem__(self, ind):\n",
    "        return self.data[ind]\n",
    "    def __len__(self):\n",
    "        return len(self.data)\n",
    "with h5.File('../../../239_748156_bundle_archive/train_point_clouds.h5', 'r') as hf:\n",
    "    train_set = dl(MNIST_3D_DS([torch.Tensor(x['img']).cuda() for x in hf.values()]), batch_size=BATCH_SIZE)\n",
    "\n",
    "with h5.File('../../../239_748156_bundle_archive/test_point_clouds.h5', 'r') as hf:\n",
    "    test_set = dl(MNIST_3D_DS([torch.Tensor(x['img']).cuda() for x in hf.values()]), batch_size=BATCH_SIZE)\n"
   ]
  },
  {
   "cell_type": "markdown",
   "metadata": {},
   "source": [
    "### Viz_tools"
   ]
  },
  {
   "cell_type": "code",
   "execution_count": 71,
   "metadata": {},
   "outputs": [],
   "source": [
    "img_lst = list(Img for i, Img in enumerate(train_set))\n",
    "img = img_lst[100].cpu().numpy()\n",
    "def visualize(img):\n",
    "    # build voxel data\n",
    "    xdata = np.array([ i + img.shape[1]/2 for i in range(len(img)) for j in range(img.shape[1] * img.shape[2])])\n",
    "    ydata = np.array([ j for i in range(len(img)) for j in range(img.shape[1]) for k in range(img.shape[2])])\n",
    "    zdata = np.array([ k for i in range(len(img)) for j in range(img.shape[1]) for k in range(img.shape[2])])\n",
    "    cdata = np.array([ img[i,j,k] for i in range(len(img)) for j in range(img.shape[1]) for k in range(img.shape[2])])\n",
    "\n",
    "    # remove white space for transparency \n",
    "    rm_list = [i for i in range(len(cdata)) if cdata[i] < 0.3 ]\n",
    "    xdata = np.delete(xdata, rm_list)\n",
    "    ydata = np.delete(ydata, rm_list)\n",
    "    zdata = np.delete(zdata, rm_list)\n",
    "    cdata = np.delete(cdata, rm_list)\n",
    "\n",
    "    # stretch the graph for equal-scale aspect\n",
    "    # xdata = np.insert(xdata, len(xdata), [0, 30])\n",
    "    # ydata = np.insert(ydata, len(ydata), [0, 30])\n",
    "    # zdata = np.insert(zdata, len(zdata), [0, 30])\n",
    "    # cdata = np.insert(cdata, len(cdata), [0, 0])\n",
    "    fig = plt.figure()\n",
    "    ax = fig.add_subplot(111, projection='3d')\n",
    "    ax.scatter3D(xdata, ydata, zdata, c=cdata, cmap='Greens')\n",
    "    plt.show()\n",
    "\n",
    "def dot_plot(arr):\n",
    "    fig = plt.plot(arr)\n",
    "    plt.ylabel('d_loss')\n",
    "    plt.show()"
   ]
  },
  {
   "cell_type": "markdown",
   "metadata": {},
   "source": [
    "### Model"
   ]
  },
  {
   "cell_type": "code",
   "execution_count": 204,
   "metadata": {},
   "outputs": [],
   "source": [
    "class Discriminator(nn.Module):\n",
    "    def __init__(self, n_channels, n_class=1):\n",
    "        super(Discriminator, self).__init__()\n",
    "        self.conv1 = nn.Conv3d(1, n_channels // 8, kernel_size=4, stride=2, padding=1)\n",
    "        self.conv2 = nn.Conv3d(n_channels // 8, n_channels // 4, kernel_size=4, stride=2, padding=1)\n",
    "        self.bn2 = nn.BatchNorm3d(n_channels // 4)\n",
    "        self.conv3 = nn.Conv3d(n_channels // 4, n_channels, kernel_size=2, stride=1, padding=1)\n",
    "        self.bn3 = nn.BatchNorm3d(n_channels)\n",
    "        self.conv4 = nn.Conv3d(n_channels, n_class, kernel_size=2, stride=1, padding=0)\n",
    "        \n",
    "    def forward(self, x):\n",
    "        h1 = F.leaky_relu(self.conv1(x), negative_slope=0.2)\n",
    "        h2 = F.leaky_relu(self.bn2(self.conv2(h1)), negative_slope=0.2)\n",
    "        h3 = F.leaky_relu(self.bn3(self.conv3(h2)), negative_slope=0.2)\n",
    "        h4 = self.conv4(h3)\n",
    "        output = h4\n",
    "        \n",
    "        return output\n",
    "    \n",
    "class Generator(nn.Module):\n",
    "    def __init__(self, n_channels, n_class=1):\n",
    "        super(Generator, self).__init__()\n",
    "        self.block1 = nn.Sequential(\n",
    "            nn.\n",
    "        )\n",
    "    def forward(self, x):\n",
    "        pass"
   ]
  },
  {
   "cell_type": "code",
   "execution_count": 205,
   "metadata": {},
   "outputs": [],
   "source": [
    "D = Discriminator(512)\n",
    "D.cuda()\n",
    "\n",
    "d_optim = optim.Adam(D.parameters(), lr=0.0002)\n",
    "\n",
    "ce_loss = nn.CrossEntropyLoss()"
   ]
  },
  {
   "cell_type": "markdown",
   "metadata": {},
   "source": [
    "### Training"
   ]
  },
  {
   "cell_type": "code",
   "execution_count": 206,
   "metadata": {},
   "outputs": [
    {
     "data": {
      "image/png": "[encoded data removed]",
      "text/plain": [
       "<Figure size 432x288 with 1 Axes>"
      ]
     },
     "metadata": {
      "needs_background": "light"
     },
     "output_type": "display_data"
    }
   ],
   "source": [
    "d_losses = []\n",
    "for index, img in enumerate(train_set):\n",
    "    # train discriminator\n",
    "    for param in D.parameters():\n",
    "        param.requires_grad = True\n",
    "    # fake and real inputs\n",
    "    rand = torch.rand(img.shape).unsqueeze(0).unsqueeze(0).cuda()\n",
    "    img = img.unsqueeze(0).unsqueeze(0)\n",
    "    # fake and real scores\n",
    "    real_score = D(img).mean().abs().reshape([1, 1])\n",
    "    fake_score = D(rand).mean().abs().reshape([1, 1])\n",
    "    scores = torch.cat((real_score, fake_score), 1)\n",
    "    d_loss = ce_loss(scores, torch.zeros(1, dtype=torch.long).cuda())\n",
    "    d_loss.backward()\n",
    "    d_optim.step()\n",
    "    d_losses.append(d_loss.item())\n",
    "    d_optim.zero_grad()\n",
    "dot_plot(d_losses)"
   ]
  },
  {
   "cell_type": "markdown",
   "metadata": {},
   "source": [
    "### Testing"
   ]
  },
  {
   "cell_type": "code",
   "execution_count": 121,
   "metadata": {},
   "outputs": [
    {
     "name": "stdout",
     "output_type": "stream",
     "text": [
      "9.537906646728516 0.1330365091562271\n",
      "9.769834518432617 0.08735457807779312\n",
      "10.102949142456055 0.16573823988437653\n",
      "10.006412506103516 0.07603238523006439\n",
      "10.031155586242676 0.10158079117536545\n",
      "10.06180191040039 0.027875997126102448\n",
      "9.99491024017334 0.09878090023994446\n",
      "10.004103660583496 0.03407953307032585\n",
      "10.131213188171387 0.07532183825969696\n",
      "9.90632438659668 0.07421695441007614\n",
      "10.036004066467285 0.05049269273877144\n",
      "9.691668510437012 0.15772710740566254\n",
      "9.954278945922852 0.07186523824930191\n",
      "10.151328086853027 0.03790263831615448\n",
      "9.92078971862793 0.002518498105928302\n",
      "9.947385787963867 0.1154850497841835\n",
      "10.041269302368164 0.002130664186552167\n",
      "9.846789360046387 0.03600922226905823\n",
      "9.862650871276855 0.1388208568096161\n",
      "10.069513320922852 0.08860508352518082\n",
      "10.115144729614258 0.19918164610862732\n",
      "10.067679405212402 0.16436763107776642\n",
      "10.28243350982666 0.20248927175998688\n",
      "9.501506805419922 0.01449623890221119\n",
      "9.90865421295166 0.18445239961147308\n",
      "9.970686912536621 0.1770058423280716\n",
      "10.183465003967285 0.11527051776647568\n",
      "10.032020568847656 0.16845223307609558\n",
      "10.124547958374023 0.06778469681739807\n",
      "9.960427284240723 0.14536669850349426\n",
      "9.90738296508789 0.11633291095495224\n",
      "10.134686470031738 0.11527840048074722\n",
      "9.99838638305664 0.032244641333818436\n",
      "10.133572578430176 0.01685907319188118\n",
      "9.97819995880127 0.13566094636917114\n",
      "10.015589714050293 0.1048850566148758\n",
      "9.653417587280273 0.16583183407783508\n",
      "10.065587043762207 0.03879496455192566\n",
      "10.197396278381348 0.17656290531158447\n",
      "10.154257774353027 0.049478840082883835\n",
      "10.165121078491211 0.013347138650715351\n",
      "9.856230735778809 0.1259281039237976\n",
      "9.789740562438965 0.21051624417304993\n",
      "9.965337753295898 0.02880146913230419\n",
      "10.094661712646484 0.048968683928251266\n",
      "9.802897453308105 0.026772499084472656\n",
      "9.943009376525879 0.1701514571905136\n",
      "9.853339195251465 0.10029125213623047\n",
      "10.082050323486328 0.04744870215654373\n",
      "9.877761840820312 0.040362533181905746\n",
      "9.96411418914795 0.052085503935813904\n",
      "9.549684524536133 0.021019157022237778\n",
      "9.899203300476074 0.24356113374233246\n",
      "9.982269287109375 0.019529283046722412\n",
      "9.805349349975586 0.19758808612823486\n",
      "10.108833312988281 0.051057249307632446\n",
      "9.817136764526367 0.13858772814273834\n",
      "10.057658195495605 0.027339039370417595\n",
      "9.925827980041504 0.07758132368326187\n",
      "9.949926376342773 0.18151098489761353\n",
      "9.868841171264648 0.00901547260582447\n",
      "10.15880012512207 0.06482058018445969\n",
      "9.948552131652832 0.04391596093773842\n",
      "10.10391902923584 0.13666266202926636\n",
      "9.96141529083252 0.07600235193967819\n",
      "10.137593269348145 0.04655717313289642\n",
      "9.793682098388672 0.01139376126229763\n",
      "10.178223609924316 0.09531733393669128\n",
      "10.006269454956055 0.10371581465005875\n",
      "9.77371883392334 0.10294925421476364\n",
      "9.7154541015625 0.023960113525390625\n",
      "9.970771789550781 0.09619389474391937\n",
      "9.880683898925781 0.125836580991745\n",
      "9.807223320007324 0.030226122587919235\n",
      "9.976378440856934 0.15701141953468323\n",
      "10.07988452911377 0.2116851955652237\n",
      "9.995749473571777 0.038477372378110886\n",
      "10.063431739807129 0.1874207854270935\n",
      "10.091118812561035 0.003976160194724798\n",
      "10.071465492248535 0.10773137211799622\n",
      "9.913907051086426 0.103946253657341\n",
      "10.11757755279541 0.05635903775691986\n",
      "10.16088581085205 0.24296244978904724\n",
      "10.044998168945312 0.07346176356077194\n",
      "10.100676536560059 0.08053907752037048\n",
      "9.804909706115723 0.10125543177127838\n",
      "9.940595626831055 0.10296116769313812\n",
      "9.894933700561523 0.0860583633184433\n",
      "10.180619239807129 0.15988342463970184\n",
      "9.908827781677246 0.16157761216163635\n",
      "9.90174388885498 0.19050796329975128\n",
      "10.04882526397705 0.10138924419879913\n",
      "9.898455619812012 0.2868751883506775\n",
      "9.914616584777832 0.24160248041152954\n",
      "9.83280086517334 0.11928809434175491\n",
      "9.947868347167969 0.017336105927824974\n",
      "10.006682395935059 0.04124458506703377\n",
      "9.690199851989746 0.07784648984670639\n",
      "9.867432594299316 0.02006690390408039\n",
      "9.717370986938477 0.13428574800491333\n",
      "10.223752975463867 0.010859333910048008\n",
      "9.921658515930176 0.0960809737443924\n"
     ]
    }
   ],
   "source": [
    "for i, img in enumerate(test_set):\n",
    "    rand = torch.rand(img.shape).unsqueeze(0).unsqueeze(0).cuda()\n",
    "    img = img.unsqueeze(0).unsqueeze(0) \n",
    "    real_score = D(img).mean().abs().reshape([1, 1])\n",
    "    fake_score = D(rand).mean().abs().reshape([1, 1])\n",
    "    print(real_score.item(), fake_score.item())\n",
    "    if i > 100:\n",
    "        break"
   ]
  }
 ],
 "metadata": {
  "kernelspec": {
   "display_name": "Python 3",
   "language": "python",
   "name": "python3"
  },
  "language_info": {
   "codemirror_mode": {
    "name": "ipython",
    "version": 3
   },
   "file_extension": ".py",
   "mimetype": "text/x-python",
   "name": "python",
   "nbconvert_exporter": "python",
   "pygments_lexer": "ipython3",
   "version": "3.8.1"
  }
 },
 "nbformat": 4,
 "nbformat_minor": 4
}
