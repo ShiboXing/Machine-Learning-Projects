{
 "cells": [
  {
   "cell_type": "code",
   "execution_count": 50,
   "metadata": {},
   "outputs": [
    {
     "name": "stdout",
     "output_type": "stream",
     "text": [
      "\n",
      "[12.]\n",
      "<NDArray 1 @cpu(0)>\n"
     ]
    }
   ],
   "source": [
    "from mxnet import autograd, nd\n",
    "\n",
    "num_inputs = 2 # this time the coeffecients consist of a 2*1 vector + bias\n",
    "num_examples = 1000\n",
    "params = nd.array([2, -3.4]).reshape(-1, 1)\n",
    "bias = nd.array([12])\n",
    "Xmat = nd.random.normal(scale=1, shape=(num_examples, num_inputs))\n",
    "y = nd.dot(Xmat, params) + bias\n",
    "y += nd.random.normal(scale=0.01, shape=y.shape)"
   ]
  },
  {
   "cell_type": "code",
   "execution_count": 43,
   "metadata": {},
   "outputs": [
    {
     "name": "stdout",
     "output_type": "stream",
     "text": [
      "\n",
      "[[-1.7489222   0.82156986]\n",
      " [-1.3056092   0.28977817]\n",
      " [-0.09401369  0.565057  ]\n",
      " [ 0.58872265  2.081384  ]\n",
      " [-0.44547397  1.4390576 ]\n",
      " [ 1.284168    0.67732435]\n",
      " [ 0.57521987 -0.13300505]\n",
      " [-0.6092996  -1.3266394 ]\n",
      " [-2.0753095   0.0612787 ]\n",
      " [ 1.203621    1.4827062 ]]\n",
      "<NDArray 10x2 @cpu(0)> \n",
      "[[ 5.7204714]\n",
      " [ 8.409523 ]\n",
      " [ 9.876771 ]\n",
      " [ 6.1004915]\n",
      " [ 6.2284875]\n",
      " [12.278732 ]\n",
      " [13.602124 ]\n",
      " [15.291996 ]\n",
      " [ 7.6392174]\n",
      " [ 9.368144 ]]\n",
      "<NDArray 10x1 @cpu(0)>\n"
     ]
    }
   ],
   "source": [
    "from mxnet.gluon import data as gdata\n",
    "\n",
    "batch_size = 10\n",
    "dataset = gdata.ArrayDataset(Xmat, y)\n",
    "data_iter = gdata.DataLoader(dataset, batch_size, shuffle=True)\n",
    "\n",
    "for X, y in data_iter:\n",
    "    print(X, y)\n",
    "    break\n"
   ]
  },
  {
   "cell_type": "code",
   "execution_count": 44,
   "metadata": {},
   "outputs": [],
   "source": [
    "from mxnet.gluon import nn\n",
    "\n",
    "net = nn.Sequential()\n",
    "net.add(nn.Dense(1)) #fully connected layer\n"
   ]
  },
  {
   "cell_type": "code",
   "execution_count": 45,
   "metadata": {},
   "outputs": [],
   "source": [
    "from mxnet import init\n",
    "\n",
    "net.initialize(init.Normal(sigma=5))"
   ]
  },
  {
   "cell_type": "code",
   "execution_count": 46,
   "metadata": {},
   "outputs": [],
   "source": [
    "from mxnet.gluon import loss as gloss\n",
    "\n",
    "loss = gloss.L2Loss()"
   ]
  },
  {
   "cell_type": "code",
   "execution_count": 47,
   "metadata": {},
   "outputs": [],
   "source": [
    "from mxnet import gluon\n",
    "\n",
    "trainer = gluon.Trainer(net.collect_params(), 'sgd', {'learning_rate': 0.03})"
   ]
  },
  {
   "cell_type": "code",
   "execution_count": 62,
   "metadata": {},
   "outputs": [
    {
     "name": "stdout",
     "output_type": "stream",
     "text": [
      "epochs: 1,  loss: [9.268084e-05] \n",
      "epochs: 2,  loss: [7.08956e-05] \n",
      "epochs: 3,  loss: [5.924445e-05] \n",
      "(1, 1)\n",
      "true parameters: \n",
      "[[ 2. ]\n",
      " [-3.4]\n",
      " [12. ]]\n",
      "<NDArray 3x1 @cpu(0)>, learned parameters: \n",
      "[[ 2.0000014 -3.4001296]]\n",
      "<NDArray 1x2 @cpu(0)> \n",
      "[12.000095]\n",
      "<NDArray 1 @cpu(0)>\n"
     ]
    }
   ],
   "source": [
    "num_epochs = 3\n",
    "for epoch in range(1, num_epochs + 1):\n",
    "    for X, y in data_iter:\n",
    "        with autograd.record():\n",
    "            l = loss(net(X), y)\n",
    "        l.backward()\n",
    "        trainer.step(batch_size)\n",
    "    l = loss(net(X), y)\n",
    "    print(f'epochs: {epoch},  loss: {l.mean().asnumpy()} ')\n",
    "    \n",
    "print(f'true parameters: {nd.concat(params, bias.reshape(1,-1), dim=0)}, learned parameters: {net[0].weight.data()} {net[0].bias.data()}')"
   ]
  }
 ],
 "metadata": {
  "kernelspec": {
   "display_name": "Python 3",
   "language": "python",
   "name": "python3"
  },
  "language_info": {
   "codemirror_mode": {
    "name": "ipython",
    "version": 3
   },
   "file_extension": ".py",
   "mimetype": "text/x-python",
   "name": "python",
   "nbconvert_exporter": "python",
   "pygments_lexer": "ipython3",
   "version": "3.7.7"
  }
 },
 "nbformat": 4,
 "nbformat_minor": 4
}
