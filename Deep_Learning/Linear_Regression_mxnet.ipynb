{
 "cells": [
  {
   "cell_type": "code",
   "execution_count": 3,
   "metadata": {},
   "outputs": [
    {
     "name": "stdout",
     "output_type": "stream",
     "text": [
      "\n",
      "[[ 0.40236598  0.34593368 -1.787833  ]\n",
      " [-0.17870884  0.9868496  -0.82165414]\n",
      " [ 1.1886557  -0.51751894 -0.21166277]\n",
      " ...\n",
      " [-0.849232    0.2788783  -1.7007854 ]\n",
      " [ 0.83491737 -0.368549   -0.7033328 ]\n",
      " [-1.3463846   0.7553509   0.34649765]]\n",
      "<NDArray 1000x3 @cpu(0)>\n"
     ]
    }
   ],
   "source": [
    "\n",
    "from mxnet import autograd, nd\n",
    "\n",
    "num_inputs = 3 # this time the coeffecients consist of a 2*1 vector + bias\n",
    "num_examples = 1000\n",
    "params = nd.array([2, -3.4, 4.2]).reshape(-1, 1)\n",
    "Xmat = nd.random.normal(scale=1, shape=(num_examples, num_inputs))\n",
    "labels = nd.dot(Xmat, params)\n",
    "labels += nd.random.normal(scale=0.01, shape=labels.shape)"
   ]
  },
  {
   "cell_type": "code",
   "execution_count": null,
   "metadata": {},
   "outputs": [],
   "source": []
  }
 ],
 "metadata": {
  "kernelspec": {
   "display_name": "Python 3",
   "language": "python",
   "name": "python3"
  },
  "language_info": {
   "codemirror_mode": {
    "name": "ipython",
    "version": 3
   },
   "file_extension": ".py",
   "mimetype": "text/x-python",
   "name": "python",
   "nbconvert_exporter": "python",
   "pygments_lexer": "ipython3",
   "version": "3.7.7"
  }
 },
 "nbformat": 4,
 "nbformat_minor": 4
}
