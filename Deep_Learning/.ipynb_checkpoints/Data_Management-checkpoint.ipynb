{
 "cells": [
  {
   "cell_type": "code",
   "execution_count": 39,
   "metadata": {},
   "outputs": [],
   "source": [
    "from mxnet import nd"
   ]
  },
  {
   "cell_type": "code",
   "execution_count": 40,
   "metadata": {},
   "outputs": [
    {
     "name": "stdout",
     "output_type": "stream",
     "text": [
      "\n",
      "[ 0.  1.  2.  3.  4.  5.  6.  7.  8.  9. 10. 11.]\n",
      "<NDArray 12 @cpu(0)> (12,) 12 \n",
      "[[ 0.  1.  2.  3.]\n",
      " [ 4.  5.  6.  7.]\n",
      " [ 8.  9. 10. 11.]]\n",
      "<NDArray 3x4 @cpu(0)>\n",
      "\n",
      "[[[0. 0. 0. 0. 0.]\n",
      "  [0. 0. 0. 0. 0.]\n",
      "  [0. 0. 0. 0. 0.]\n",
      "  [0. 0. 0. 0. 0.]]\n",
      "\n",
      " [[0. 0. 0. 0. 0.]\n",
      "  [0. 0. 0. 0. 0.]\n",
      "  [0. 0. 0. 0. 0.]\n",
      "  [0. 0. 0. 0. 0.]]\n",
      "\n",
      " [[0. 0. 0. 0. 0.]\n",
      "  [0. 0. 0. 0. 0.]\n",
      "  [0. 0. 0. 0. 0.]\n",
      "  [0. 0. 0. 0. 0.]]]\n",
      "<NDArray 3x4x5 @cpu(0)> \n",
      "[[1. 1. 1.]\n",
      " [1. 1. 1.]]\n",
      "<NDArray 2x3 @cpu(0)> \n",
      "[[1. 2. 3.]\n",
      " [2. 3. 4.]\n",
      " [3. 4. 5.]]\n",
      "<NDArray 3x3 @cpu(0)>\n",
      "\n",
      "[[2.2444217 1.9628394 1.5122501 1.9773828]\n",
      " [2.574614  3.4661262 2.6862903 2.354961 ]\n",
      " [3.0731697 2.1201746 1.0288898 1.2243034]]\n",
      "<NDArray 3x4 @cpu(0)>\n"
     ]
    }
   ],
   "source": [
    "x = nd.arange(12)\n",
    "print(x, x.shape, x.size, x.reshape((3, 4)))\n",
    "print(nd.zeros((3,4,5)), nd.ones((2,3)), nd.array([[1,2,3],[2,3,4],[3,4,5]]))\n",
    "print(nd.random.normal(2, 1, shape=(3,4)))"
   ]
  },
  {
   "cell_type": "markdown",
   "metadata": {},
   "source": [
    "#### operators: "
   ]
  },
  {
   "cell_type": "code",
   "execution_count": 41,
   "metadata": {
    "scrolled": true
   },
   "outputs": [
    {
     "name": "stdout",
     "output_type": "stream",
     "text": [
      "\n",
      "[[2. 3. 4. 5.]\n",
      " [3. 4. 5. 6.]\n",
      " [4. 5. 6. 7.]]\n",
      "<NDArray 3x4 @cpu(0)> \n",
      "[[1. 2. 3. 4.]\n",
      " [2. 3. 4. 5.]\n",
      " [3. 4. 5. 6.]]\n",
      "<NDArray 3x4 @cpu(0)> \n",
      "[[1. 2. 3. 4.]\n",
      " [2. 3. 4. 5.]\n",
      " [3. 4. 5. 6.]]\n",
      "<NDArray 3x4 @cpu(0)>\n",
      "\n",
      "[[2.7182817 2.7182817 2.7182817 2.7182817]\n",
      " [2.7182817 2.7182817 2.7182817 2.7182817]\n",
      " [2.7182817 2.7182817 2.7182817 2.7182817]]\n",
      "<NDArray 3x4 @cpu(0)>\n",
      "\n",
      "[[10. 10. 10.]\n",
      " [14. 14. 14.]\n",
      " [18. 18. 18.]]\n",
      "<NDArray 3x3 @cpu(0)>\n",
      "\n",
      "[[1. 2. 3. 4. 1. 1. 1. 1.]\n",
      " [2. 3. 4. 5. 1. 1. 1. 1.]\n",
      " [3. 4. 5. 6. 1. 1. 1. 1.]]\n",
      "<NDArray 3x8 @cpu(0)> \n",
      "[[1. 2. 3. 4.]\n",
      " [2. 3. 4. 5.]\n",
      " [3. 4. 5. 6.]\n",
      " [1. 1. 1. 1.]\n",
      " [1. 1. 1. 1.]\n",
      " [1. 1. 1. 1.]]\n",
      "<NDArray 6x4 @cpu(0)>\n",
      "\n",
      "[[1. 0. 0. 0.]\n",
      " [0. 0. 0. 0.]\n",
      " [0. 0. 0. 0.]]\n",
      "<NDArray 3x4 @cpu(0)> \n",
      "[42.]\n",
      "<NDArray 1 @cpu(0)> 13.038405\n"
     ]
    }
   ],
   "source": [
    "X = nd.array([[1,2,3,4],[2,3,4,5],[3,4,5,6]])\n",
    "Y = nd.ones((3,4)) \n",
    "print(X + Y, X * Y, X / Y)\n",
    "print(Y.exp())\n",
    "print(nd.dot(X, Y.T))\n",
    "print(nd.concat(X, Y), nd.concat(X, Y, dim=0))\n",
    "print(X == Y, X.sum(), X.norm().asscalar())"
   ]
  },
  {
   "cell_type": "markdown",
   "metadata": {},
   "source": [
    "### broadcasting and referencing"
   ]
  },
  {
   "cell_type": "code",
   "execution_count": 42,
   "metadata": {},
   "outputs": [
    {
     "name": "stdout",
     "output_type": "stream",
     "text": [
      "\n",
      "[[0.]\n",
      " [1.]\n",
      " [2.]]\n",
      "<NDArray 3x1 @cpu(0)> \n",
      "[[0. 1.]]\n",
      "<NDArray 1x2 @cpu(0)>\n"
     ]
    }
   ],
   "source": [
    "A = nd.arange(3).reshape((3, 1))\n",
    "B = nd.arange(2).reshape((1, 2))\n",
    "print(A, B)\n",
    "print(A + B)"
   ]
  },
  {
   "cell_type": "code",
   "execution_count": 44,
   "metadata": {},
   "outputs": [
    {
     "name": "stdout",
     "output_type": "stream",
     "text": [
      "\n",
      "[[ 1.  2.  3.  4.]\n",
      " [ 2.  3.  4.  5.]\n",
      " [12. 12. 12. 12.]]\n",
      "<NDArray 3x4 @cpu(0)> \n",
      "[[1. 2. 3. 4.]\n",
      " [2. 3. 4. 5.]]\n",
      "<NDArray 2x4 @cpu(0)> \n",
      "[3.]\n",
      "<NDArray 1 @cpu(0)>\n",
      "\n",
      "[[ 1.  2.  3.  4.]\n",
      " [ 2.  3.  4.  5.]\n",
      " [12. 12. 12. 12.]]\n",
      "<NDArray 3x4 @cpu(0)>\n"
     ]
    }
   ],
   "source": [
    "print(X, X[0:2], X[0, 2])\n",
    "X[2, :] = 12\n",
    "print(X)"
   ]
  },
  {
   "cell_type": "markdown",
   "metadata": {},
   "source": [
    "### memory referecing"
   ]
  },
  {
   "cell_type": "markdown",
   "metadata": {},
   "source": [
    "###### allocate new memory "
   ]
  },
  {
   "cell_type": "code",
   "execution_count": 58,
   "metadata": {},
   "outputs": [
    {
     "name": "stdout",
     "output_type": "stream",
     "text": [
      "139885685259288 139885685258952\n",
      "139885685259288 139885685259288\n"
     ]
    }
   ],
   "source": [
    "before = id(Y)\n",
    "Y = Y + X\n",
    "print(before, id(Y))"
   ]
  },
  {
   "cell_type": "markdown",
   "metadata": {},
   "source": [
    "###### allocate new memory and copy it to the old memory space"
   ]
  },
  {
   "cell_type": "code",
   "execution_count": 59,
   "metadata": {},
   "outputs": [
    {
     "name": "stdout",
     "output_type": "stream",
     "text": [
      "139885685259176 139885685259176\n"
     ]
    }
   ],
   "source": [
    "Y0 = Y.zeros_like()\n",
    "before = id(Y0)\n",
    "Y0[:] = Y + X\n",
    "print(before, id(Y0))"
   ]
  },
  {
   "cell_type": "markdown",
   "metadata": {},
   "source": [
    "###### directly write to the old space"
   ]
  },
  {
   "cell_type": "code",
   "execution_count": 61,
   "metadata": {},
   "outputs": [
    {
     "name": "stdout",
     "output_type": "stream",
     "text": [
      "True\n"
     ]
    }
   ],
   "source": [
    "nd.elemwise_add(X, Y, out=Y0)\n",
    "print(id(Y0) == before)"
   ]
  },
  {
   "cell_type": "markdown",
   "metadata": {},
   "source": [
    "###### conversion with numpy"
   ]
  },
  {
   "cell_type": "code",
   "execution_count": 73,
   "metadata": {},
   "outputs": [
    {
     "name": "stdout",
     "output_type": "stream",
     "text": [
      "numpy: [[1. 1. 1.]\n",
      " [1. 1. 1.]] \n",
      "\n",
      " NDArray: \n",
      "[[1. 1. 1.]\n",
      " [1. 1. 1.]]\n",
      "<NDArray 2x3 @cpu(0)> \n",
      "\n",
      " back to numpy: [[1. 1. 1.]\n",
      " [1. 1. 1.]]\n"
     ]
    }
   ],
   "source": [
    "import numpy as np\n",
    "\n",
    "P = np.ones((2, 3))\n",
    "D = nd.array(P)\n",
    "\n",
    "print(f'numpy: {P} \\n\\n NDArray: {D} \\n\\n back to numpy: {D.asnumpy()}')"
   ]
  },
  {
   "cell_type": "code",
   "execution_count": null,
   "metadata": {},
   "outputs": [],
   "source": []
  }
 ],
 "metadata": {
  "kernelspec": {
   "display_name": "Python 3",
   "language": "python",
   "name": "python3"
  },
  "language_info": {
   "codemirror_mode": {
    "name": "ipython",
    "version": 3
   },
   "file_extension": ".py",
   "mimetype": "text/x-python",
   "name": "python",
   "nbconvert_exporter": "python",
   "pygments_lexer": "ipython3",
   "version": "3.6.10"
  }
 },
 "nbformat": 4,
 "nbformat_minor": 4
}
